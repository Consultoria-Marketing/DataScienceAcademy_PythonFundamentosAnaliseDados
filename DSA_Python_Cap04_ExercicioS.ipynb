{
  "nbformat": 4,
  "nbformat_minor": 0,
  "metadata": {
    "colab": {
      "name": "DSA-Python-Cap04-ExercicioS.ipynb",
      "provenance": [],
      "authorship_tag": "ABX9TyNCCBo62WTW8ZpyK13tfToy",
      "include_colab_link": true
    },
    "kernelspec": {
      "name": "python3",
      "display_name": "Python 3"
    }
  },
  "cells": [
    {
      "cell_type": "markdown",
      "metadata": {
        "id": "view-in-github",
        "colab_type": "text"
      },
      "source": [
        "<a href=\"https://colab.research.google.com/github/brunopmvs/DataScienceAcademy_PythonFundamentosAnaliseDados/blob/master/DSA_Python_Cap04_ExercicioS.ipynb\" target=\"_parent\"><img src=\"https://colab.research.google.com/assets/colab-badge.svg\" alt=\"Open In Colab\"/></a>"
      ]
    },
    {
      "cell_type": "code",
      "metadata": {
        "id": "aPbHwh6KJCmf",
        "colab_type": "code",
        "colab": {
          "base_uri": "https://localhost:8080/",
          "height": 68
        },
        "outputId": "878323e3-0fde-48c4-8053-9b82e4d67f6c"
      },
      "source": [
        "# Exercício 1 - Crie uma lista de 3 elementos e calcule a terceira potência de cada elemento.\n",
        "lista = [12,42,31]\n",
        "for i in lista:\n",
        "  print(\"%d elevado a 3 = %d\" %(i, i**3))"
      ],
      "execution_count": null,
      "outputs": [
        {
          "output_type": "stream",
          "text": [
            "12 elevado a 3 = 1728\n",
            "42 elevado a 3 = 74088\n",
            "31 elevado a 3 = 29791\n"
          ],
          "name": "stdout"
        }
      ]
    },
    {
      "cell_type": "code",
      "metadata": {
        "id": "dmt7sDbRJJ8f",
        "colab_type": "code",
        "colab": {}
      },
      "source": [
        "\n",
        "# Exercício 2 - Reescreva o código abaixo, usando a função map(). O resultado final deve ser o mesmo!\n",
        "palavras = 'A Data Science Academy oferce os melhores cursos de análise de dados do Brasil'.split()\n",
        "resultado = [[w.upper(), w.lower(), len(w)] for w in palavras]\n",
        "# for i in resultado:\n",
        "#     print (i)\n",
        "# >>['A', 'a', 1]\n",
        "# >>['DATA', 'data', 4]\n",
        "def myFunc(w):\n",
        "  return [w.upper(), w.lower(), len(w)]\n",
        "\n",
        "lista1 = list(map(myFunc, palavras))\n",
        "print(lista1)\n"
      ],
      "execution_count": null,
      "outputs": []
    },
    {
      "cell_type": "code",
      "metadata": {
        "id": "eCnCNfa9JMeq",
        "colab_type": "code",
        "colab": {}
      },
      "source": [
        "# Exercício 3 - Calcule a matriz transposta da matriz abaixo.\n",
        "# Caso não saiba o que é matriz transposta, visite este link: https://pt.wikipedia.org/wiki/Matriz_transposta\n",
        "# Matriz transposta é um conceito fundamental na construção de redes neurais artificiais, base de sistemas de IA.\n",
        "matrix = [[1, 2],[3,4],[5,6],[7,8]]\n",
        "matrixT = []\n",
        "\n",
        "for i in range(0, len(matrix[0])):\n",
        "  linha = []\n",
        "  for j in range(0, len(matrix)):\n",
        "    linha.append(matrix[j][i])\n",
        "  matrixT.append(linha)\n",
        "\n",
        "print(matrixT)\n",
        "\n",
        "matrixT = matrix."
      ],
      "execution_count": null,
      "outputs": []
    },
    {
      "cell_type": "code",
      "metadata": {
        "id": "IezaT8vPJQGe",
        "colab_type": "code",
        "colab": {}
      },
      "source": [
        "# Exercício 4 - Crie duas funções, uma para elevar um número ao quadrado e outra para elevar ao cubo. \n",
        "# Aplique as duas funções aos elementos da lista abaixo. \n",
        "# Obs: as duas funções devem ser aplicadas simultaneamente.\n",
        "lista = [0, 1, 2, 3, 4]\n",
        "\n",
        "def square(x):\n",
        "        return (x**2)\n",
        "    \n",
        "def cube(x):\n",
        "        return (x**3)\n",
        "\n",
        "funcs = [square, cube]\n",
        "\n",
        "for i in lista:\n",
        "    valor = map(lambda x: x(i), funcs)\n",
        "    print(list((valor)))"
      ],
      "execution_count": null,
      "outputs": []
    },
    {
      "cell_type": "code",
      "metadata": {
        "id": "lUU4T9chJUWF",
        "colab_type": "code",
        "colab": {}
      },
      "source": [
        "# Exercício 5 - Abaixo você encontra duas listas. Faça com que cada elemento da listaA seja elevado \n",
        "# ao elemento correspondente na listaB.\n",
        "listaA = [2, 3, 4]\n",
        "listaB = [10, 11, 12]\n",
        "for i in listaA:\n",
        "  print(\"%d elevado a %d = %d\" %())"
      ],
      "execution_count": null,
      "outputs": []
    },
    {
      "cell_type": "code",
      "metadata": {
        "id": "VvTvPBfIJgKr",
        "colab_type": "code",
        "colab": {}
      },
      "source": [
        "# Exercício 6 - Considerando o range de valores abaixo, use a função filter() para retornar apenas os valores negativos.\n",
        "range(-5, 5)"
      ],
      "execution_count": null,
      "outputs": []
    },
    {
      "cell_type": "code",
      "metadata": {
        "id": "qeR6vj3RJl1Q",
        "colab_type": "code",
        "colab": {}
      },
      "source": [
        "# Exercício 7 - Usando a função filter(), encontre os valores que são comuns às duas listas abaixo.\n",
        "a = [1,2,3,5,7,9]\n",
        "b = [2,3,5,6,7,8]"
      ],
      "execution_count": null,
      "outputs": []
    },
    {
      "cell_type": "code",
      "metadata": {
        "id": "MeyOjoEWJnS6",
        "colab_type": "code",
        "colab": {}
      },
      "source": [
        "# Exercício 8 - Considere o código abaixo. Obtenha o mesmo resultado usando o pacote time. \n",
        "# Não conhece o pacote time? Pesquise!\n",
        "import datetime\n",
        "print (datetime.datetime.now().strftime(\"%d/%m/%Y %H:%M\"))"
      ],
      "execution_count": null,
      "outputs": []
    },
    {
      "cell_type": "code",
      "metadata": {
        "id": "LEqvdoAuJpAx",
        "colab_type": "code",
        "colab": {}
      },
      "source": [
        "# Exercício 9 - Considere os dois dicionários abaixo. \n",
        "# Crie um terceiro dicionário com as chaves do dicionário 1 e os valores do dicionário 2.\n",
        "dict1 = {'a':1,'b':2}\n",
        "dict2 = {'c':4,'d':5}"
      ],
      "execution_count": null,
      "outputs": []
    },
    {
      "cell_type": "code",
      "metadata": {
        "id": "bD_mkAVuJukl",
        "colab_type": "code",
        "colab": {}
      },
      "source": [
        "# Exercício 10 - Considere a lista abaixo e retorne apenas os elementos cujo índice for maior que 5.\n",
        "lista = ['a', 'b', 'c', 'd', 'e', 'f', 'g', 'h']"
      ],
      "execution_count": null,
      "outputs": []
    }
  ]
}